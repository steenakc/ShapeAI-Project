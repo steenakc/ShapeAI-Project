{
  "nbformat": 4,
  "nbformat_minor": 0,
  "metadata": {
    "colab": {
      "name": "Untitled8.ipynb",
      "provenance": [],
      "authorship_tag": "ABX9TyP56dgwxQPKtfU5xB55aGUq",
      "include_colab_link": true
    },
    "kernelspec": {
      "name": "python3",
      "display_name": "Python 3"
    },
    "language_info": {
      "name": "python"
    }
  },
  "cells": [
    {
      "cell_type": "markdown",
      "metadata": {
        "id": "view-in-github",
        "colab_type": "text"
      },
      "source": [
        "<a href=\"https://colab.research.google.com/github/steenakc/ShapeAI-Project/blob/main/Project1.ipynb\" target=\"_parent\"><img src=\"https://colab.research.google.com/assets/colab-badge.svg\" alt=\"Open In Colab\"/></a>"
      ]
    },
    {
      "cell_type": "code",
      "metadata": {
        "colab": {
          "base_uri": "https://localhost:8080/"
        },
        "id": "qtbbXj95JVgb",
        "outputId": "6b744aa6-8a3a-4345-b8c4-3572137e2f5d"
      },
      "source": [
        "import requests\n",
        "import os\n",
        "from datetime import datetime\n",
        "\n",
        "api_key = '011ee46e4b61838467fe0be09e3d091a'\n",
        "location = input(\"Enter the city name: \")\n",
        "\n",
        "complete_api_link = \"https://api.openweathermap.org/data/2.5/weather?q=\"+location+\"&appid=\"+api_key\n",
        "api_link = requests.get(complete_api_link)\n",
        "api_data = api_link.json()\n",
        "\n",
        "\n",
        "temp_city = ((api_data['main']['temp']) - 273.15)\n",
        "weather_desc = api_data['weather'][0]['description']\n",
        "hmdt = api_data['main']['humidity']\n",
        "wind_spd = api_data['wind']['speed']\n",
        "date_time = datetime.now().strftime(\"%d %b %Y | %I:%M:%S %p\")\n",
        "\n",
        "print (\"________________________________________________________________\")\n",
        "print (\"Weather Stats for - {}  || {}\".format(location.upper(), date_time))\n",
        "print (\"________________________________________________________________\")\n",
        "\n",
        "\n",
        "print (\"# Current temperature is: {:.2f} deg C\".format(temp_city))\n",
        "print (\"# Current weather desc  :\", weather_desc)\n",
        "print (\"# Current Humidity      :\", hmdt, '%')\n",
        "print (\"# Current wind speed    :\", wind_spd ,'kmph')\n",
        "with open('saveFile.txt', 'w') as f:\n",
        " f.write(\"city: \"+location+\"\\n\"+\"Temperature :\"+str(temp_city)+\"\\nWeather Description :\"+weather_desc+\"\\nHumidity :\"+str(hmdt)+\" %\"+\"\\nWind speed :\"+str(wind_spd)+str(wind_spd)+\" kmph\")\n",
        "\n"
      ],
      "execution_count": 3,
      "outputs": [
        {
          "output_type": "stream",
          "text": [
            "Enter the city name: kochi\n",
            "________________________________________________________________\n",
            "Weather Stats for - KOCHI  || 22 Jun 2021 | 02:36:45 PM\n",
            "________________________________________________________________\n",
            "# Current temperature is: 27.99 deg C\n",
            "# Current weather desc  : overcast clouds\n",
            "# Current Humidity      : 87 %\n",
            "# Current wind speed    : 4.52 kmph\n"
          ],
          "name": "stdout"
        }
      ]
    },
    {
      "cell_type": "code",
      "metadata": {
        "colab": {
          "base_uri": "https://localhost:8080/"
        },
        "id": "WJSzIbAQJvxp",
        "outputId": "268eafd6-3ded-49de-f092-919965d2f8eb"
      },
      "source": [
        "cat saveFile.txt"
      ],
      "execution_count": 4,
      "outputs": [
        {
          "output_type": "stream",
          "text": [
            "city: kochi\n",
            "Temperature :27.99000000000001\n",
            "Weather Description :overcast clouds\n",
            "Humidity :87 %\n",
            "Wind speed :4.524.52 kmph"
          ],
          "name": "stdout"
        }
      ]
    }
  ]
}